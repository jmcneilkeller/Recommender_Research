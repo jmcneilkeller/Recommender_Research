{
 "cells": [
  {
   "cell_type": "code",
   "execution_count": 2,
   "metadata": {},
   "outputs": [],
   "source": [
    "import implicit\n",
    "import pandas as pd\n",
    "import scipy\n",
    "import annoy\n",
    "import nmslib\n",
    "import numpy"
   ]
  },
  {
   "cell_type": "code",
   "execution_count": 20,
   "metadata": {},
   "outputs": [],
   "source": [
    "import pprint"
   ]
  },
  {
   "cell_type": "code",
   "execution_count": 3,
   "metadata": {},
   "outputs": [
    {
     "data": {
      "text/html": [
       "<div>\n",
       "<style scoped>\n",
       "    .dataframe tbody tr th:only-of-type {\n",
       "        vertical-align: middle;\n",
       "    }\n",
       "\n",
       "    .dataframe tbody tr th {\n",
       "        vertical-align: top;\n",
       "    }\n",
       "\n",
       "    .dataframe thead th {\n",
       "        text-align: right;\n",
       "    }\n",
       "</style>\n",
       "<table border=\"1\" class=\"dataframe\">\n",
       "  <thead>\n",
       "    <tr style=\"text-align: right;\">\n",
       "      <th></th>\n",
       "      <th>movieId</th>\n",
       "      <th>title</th>\n",
       "      <th>genres</th>\n",
       "      <th>imdbId</th>\n",
       "      <th>tmdbId</th>\n",
       "      <th>('count', 0.5)</th>\n",
       "      <th>('count', 1.0)</th>\n",
       "      <th>('count', 1.5)</th>\n",
       "      <th>('count', 2.0)</th>\n",
       "      <th>('count', 2.5)</th>\n",
       "      <th>...</th>\n",
       "      <th>('count', 3.5)</th>\n",
       "      <th>('count', 4.0)</th>\n",
       "      <th>('count', 4.5)</th>\n",
       "      <th>('count', 5.0)</th>\n",
       "      <th>total_count</th>\n",
       "      <th>percent_0.5to1</th>\n",
       "      <th>percent_4.5to5</th>\n",
       "      <th>percent_polarity</th>\n",
       "      <th>total_tails</th>\n",
       "      <th>Cluster</th>\n",
       "    </tr>\n",
       "  </thead>\n",
       "  <tbody>\n",
       "    <tr>\n",
       "      <th>0</th>\n",
       "      <td>56</td>\n",
       "      <td>Kids of the Round Table (1995)</td>\n",
       "      <td>Adventure|Children|Comedy|Fantasy</td>\n",
       "      <td>tt0113541</td>\n",
       "      <td>124057.0</td>\n",
       "      <td>4.0</td>\n",
       "      <td>33.0</td>\n",
       "      <td>2.0</td>\n",
       "      <td>15.0</td>\n",
       "      <td>2.0</td>\n",
       "      <td>...</td>\n",
       "      <td>2.0</td>\n",
       "      <td>12.0</td>\n",
       "      <td>0.0</td>\n",
       "      <td>2.0</td>\n",
       "      <td>83.0</td>\n",
       "      <td>0.445783</td>\n",
       "      <td>0.024096</td>\n",
       "      <td>0.421687</td>\n",
       "      <td>0.469880</td>\n",
       "      <td>0</td>\n",
       "    </tr>\n",
       "    <tr>\n",
       "      <th>1</th>\n",
       "      <td>66</td>\n",
       "      <td>Lawnmower Man 2: Beyond Cyberspace (1996)</td>\n",
       "      <td>Action|Sci-Fi|Thriller</td>\n",
       "      <td>tt0116839</td>\n",
       "      <td>11525.0</td>\n",
       "      <td>135.0</td>\n",
       "      <td>796.0</td>\n",
       "      <td>65.0</td>\n",
       "      <td>500.0</td>\n",
       "      <td>62.0</td>\n",
       "      <td>...</td>\n",
       "      <td>26.0</td>\n",
       "      <td>172.0</td>\n",
       "      <td>2.0</td>\n",
       "      <td>100.0</td>\n",
       "      <td>2586.0</td>\n",
       "      <td>0.360015</td>\n",
       "      <td>0.039443</td>\n",
       "      <td>0.320572</td>\n",
       "      <td>0.399459</td>\n",
       "      <td>0</td>\n",
       "    </tr>\n",
       "    <tr>\n",
       "      <th>2</th>\n",
       "      <td>181</td>\n",
       "      <td>Mighty Morphin Power Rangers: The Movie (1995)</td>\n",
       "      <td>Action|Children</td>\n",
       "      <td>tt0113820</td>\n",
       "      <td>9070.0</td>\n",
       "      <td>310.0</td>\n",
       "      <td>970.0</td>\n",
       "      <td>99.0</td>\n",
       "      <td>534.0</td>\n",
       "      <td>130.0</td>\n",
       "      <td>...</td>\n",
       "      <td>81.0</td>\n",
       "      <td>159.0</td>\n",
       "      <td>24.0</td>\n",
       "      <td>92.0</td>\n",
       "      <td>3001.0</td>\n",
       "      <td>0.426524</td>\n",
       "      <td>0.038654</td>\n",
       "      <td>0.387871</td>\n",
       "      <td>0.465178</td>\n",
       "      <td>0</td>\n",
       "    </tr>\n",
       "    <tr>\n",
       "      <th>3</th>\n",
       "      <td>193</td>\n",
       "      <td>Showgirls (1995)</td>\n",
       "      <td>Drama</td>\n",
       "      <td>tt0114436</td>\n",
       "      <td>10802.0</td>\n",
       "      <td>671.0</td>\n",
       "      <td>2095.0</td>\n",
       "      <td>465.0</td>\n",
       "      <td>1712.0</td>\n",
       "      <td>519.0</td>\n",
       "      <td>...</td>\n",
       "      <td>360.0</td>\n",
       "      <td>684.0</td>\n",
       "      <td>109.0</td>\n",
       "      <td>403.0</td>\n",
       "      <td>8937.0</td>\n",
       "      <td>0.309500</td>\n",
       "      <td>0.057290</td>\n",
       "      <td>0.252210</td>\n",
       "      <td>0.366790</td>\n",
       "      <td>0</td>\n",
       "    </tr>\n",
       "    <tr>\n",
       "      <th>4</th>\n",
       "      <td>285</td>\n",
       "      <td>Beyond Bedlam (1993)</td>\n",
       "      <td>Drama|Horror</td>\n",
       "      <td>tt0106402</td>\n",
       "      <td>56428.0</td>\n",
       "      <td>4.0</td>\n",
       "      <td>27.0</td>\n",
       "      <td>3.0</td>\n",
       "      <td>14.0</td>\n",
       "      <td>0.0</td>\n",
       "      <td>...</td>\n",
       "      <td>0.0</td>\n",
       "      <td>7.0</td>\n",
       "      <td>0.0</td>\n",
       "      <td>10.0</td>\n",
       "      <td>88.0</td>\n",
       "      <td>0.352273</td>\n",
       "      <td>0.113636</td>\n",
       "      <td>0.238636</td>\n",
       "      <td>0.465909</td>\n",
       "      <td>0</td>\n",
       "    </tr>\n",
       "  </tbody>\n",
       "</table>\n",
       "<p>5 rows × 21 columns</p>\n",
       "</div>"
      ],
      "text/plain": [
       "   movieId                                           title  \\\n",
       "0       56                  Kids of the Round Table (1995)   \n",
       "1       66       Lawnmower Man 2: Beyond Cyberspace (1996)   \n",
       "2      181  Mighty Morphin Power Rangers: The Movie (1995)   \n",
       "3      193                                Showgirls (1995)   \n",
       "4      285                            Beyond Bedlam (1993)   \n",
       "\n",
       "                              genres     imdbId    tmdbId  ('count', 0.5)  \\\n",
       "0  Adventure|Children|Comedy|Fantasy  tt0113541  124057.0             4.0   \n",
       "1             Action|Sci-Fi|Thriller  tt0116839   11525.0           135.0   \n",
       "2                    Action|Children  tt0113820    9070.0           310.0   \n",
       "3                              Drama  tt0114436   10802.0           671.0   \n",
       "4                       Drama|Horror  tt0106402   56428.0             4.0   \n",
       "\n",
       "   ('count', 1.0)  ('count', 1.5)  ('count', 2.0)  ('count', 2.5)   ...     \\\n",
       "0            33.0             2.0            15.0             2.0   ...      \n",
       "1           796.0            65.0           500.0            62.0   ...      \n",
       "2           970.0            99.0           534.0           130.0   ...      \n",
       "3          2095.0           465.0          1712.0           519.0   ...      \n",
       "4            27.0             3.0            14.0             0.0   ...      \n",
       "\n",
       "   ('count', 3.5)  ('count', 4.0)  ('count', 4.5)  ('count', 5.0)  \\\n",
       "0             2.0            12.0             0.0             2.0   \n",
       "1            26.0           172.0             2.0           100.0   \n",
       "2            81.0           159.0            24.0            92.0   \n",
       "3           360.0           684.0           109.0           403.0   \n",
       "4             0.0             7.0             0.0            10.0   \n",
       "\n",
       "   total_count  percent_0.5to1  percent_4.5to5  percent_polarity  total_tails  \\\n",
       "0         83.0        0.445783        0.024096          0.421687     0.469880   \n",
       "1       2586.0        0.360015        0.039443          0.320572     0.399459   \n",
       "2       3001.0        0.426524        0.038654          0.387871     0.465178   \n",
       "3       8937.0        0.309500        0.057290          0.252210     0.366790   \n",
       "4         88.0        0.352273        0.113636          0.238636     0.465909   \n",
       "\n",
       "   Cluster  \n",
       "0        0  \n",
       "1        0  \n",
       "2        0  \n",
       "3        0  \n",
       "4        0  \n",
       "\n",
       "[5 rows x 21 columns]"
      ]
     },
     "execution_count": 3,
     "metadata": {},
     "output_type": "execute_result"
    }
   ],
   "source": [
    "df = pd.read_csv(\"final_data.csv\", index_col=0)\n",
    "df.drop(\"index\",axis=1,inplace=True)\n",
    "df.head()"
   ]
  },
  {
   "cell_type": "code",
   "execution_count": 4,
   "metadata": {},
   "outputs": [
    {
     "name": "stdout",
     "output_type": "stream",
     "text": [
      "<class 'pandas.core.frame.DataFrame'>\n",
      "Int64Index: 476 entries, 0 to 482\n",
      "Data columns (total 21 columns):\n",
      "movieId             476 non-null int64\n",
      "title               476 non-null object\n",
      "genres              476 non-null object\n",
      "imdbId              476 non-null object\n",
      "tmdbId              473 non-null float64\n",
      "('count', 0.5)      476 non-null float64\n",
      "('count', 1.0)      476 non-null float64\n",
      "('count', 1.5)      476 non-null float64\n",
      "('count', 2.0)      476 non-null float64\n",
      "('count', 2.5)      476 non-null float64\n",
      "('count', 3.0)      476 non-null float64\n",
      "('count', 3.5)      476 non-null float64\n",
      "('count', 4.0)      476 non-null float64\n",
      "('count', 4.5)      476 non-null float64\n",
      "('count', 5.0)      476 non-null float64\n",
      "total_count         476 non-null float64\n",
      "percent_0.5to1      476 non-null float64\n",
      "percent_4.5to5      476 non-null float64\n",
      "percent_polarity    476 non-null float64\n",
      "total_tails         476 non-null float64\n",
      "Cluster             476 non-null int64\n",
      "dtypes: float64(16), int64(2), object(3)\n",
      "memory usage: 81.8+ KB\n"
     ]
    }
   ],
   "source": [
    "df.info()"
   ]
  },
  {
   "cell_type": "markdown",
   "metadata": {},
   "source": [
    "## Implicit"
   ]
  },
  {
   "cell_type": "code",
   "execution_count": 5,
   "metadata": {},
   "outputs": [
    {
     "data": {
      "text/html": [
       "<div>\n",
       "<style scoped>\n",
       "    .dataframe tbody tr th:only-of-type {\n",
       "        vertical-align: middle;\n",
       "    }\n",
       "\n",
       "    .dataframe tbody tr th {\n",
       "        vertical-align: top;\n",
       "    }\n",
       "\n",
       "    .dataframe thead th {\n",
       "        text-align: right;\n",
       "    }\n",
       "</style>\n",
       "<table border=\"1\" class=\"dataframe\">\n",
       "  <thead>\n",
       "    <tr style=\"text-align: right;\">\n",
       "      <th></th>\n",
       "      <th>userId</th>\n",
       "      <th>movieId</th>\n",
       "      <th>rating</th>\n",
       "    </tr>\n",
       "  </thead>\n",
       "  <tbody>\n",
       "    <tr>\n",
       "      <th>66</th>\n",
       "      <td>4</td>\n",
       "      <td>66</td>\n",
       "      <td>0.5</td>\n",
       "    </tr>\n",
       "    <tr>\n",
       "      <th>90</th>\n",
       "      <td>4</td>\n",
       "      <td>181</td>\n",
       "      <td>0.5</td>\n",
       "    </tr>\n",
       "    <tr>\n",
       "      <th>93</th>\n",
       "      <td>4</td>\n",
       "      <td>193</td>\n",
       "      <td>0.5</td>\n",
       "    </tr>\n",
       "    <tr>\n",
       "      <th>159</th>\n",
       "      <td>4</td>\n",
       "      <td>546</td>\n",
       "      <td>0.5</td>\n",
       "    </tr>\n",
       "    <tr>\n",
       "      <th>296</th>\n",
       "      <td>4</td>\n",
       "      <td>1760</td>\n",
       "      <td>0.5</td>\n",
       "    </tr>\n",
       "  </tbody>\n",
       "</table>\n",
       "</div>"
      ],
      "text/plain": [
       "     userId  movieId  rating\n",
       "66        4       66     0.5\n",
       "90        4      181     0.5\n",
       "93        4      193     0.5\n",
       "159       4      546     0.5\n",
       "296       4     1760     0.5"
      ]
     },
     "execution_count": 5,
     "metadata": {},
     "output_type": "execute_result"
    }
   ],
   "source": [
    "df_sparse = pd.read_csv(\"item_item_final.csv\", index_col=0)\n",
    "df_sparse.drop(\"timestamp\",axis=1,inplace=True)\n",
    "df_sparse.head()"
   ]
  },
  {
   "cell_type": "code",
   "execution_count": 6,
   "metadata": {},
   "outputs": [],
   "source": [
    "sparse = scipy.sparse.csr_matrix(df_sparse.values)"
   ]
  },
  {
   "cell_type": "code",
   "execution_count": 7,
   "metadata": {},
   "outputs": [
    {
     "name": "stderr",
     "output_type": "stream",
     "text": [
      "WARNING:root:Intel MKL BLAS detected. Its highly recommend to set the environment variable 'export MKL_NUM_THREADS=1' to disable its internal multithreading\n"
     ]
    }
   ],
   "source": [
    "als_model = implicit.als.AlternatingLeastSquares()"
   ]
  },
  {
   "cell_type": "code",
   "execution_count": 8,
   "metadata": {},
   "outputs": [
    {
     "name": "stderr",
     "output_type": "stream",
     "text": [
      "100%|██████████| 15.0/15 [00:39<00:00,  2.61s/it]\n"
     ]
    }
   ],
   "source": [
    "als_model.fit(sparse)"
   ]
  },
  {
   "cell_type": "code",
   "execution_count": 9,
   "metadata": {},
   "outputs": [],
   "source": [
    "sim_items = als_model.similar_items(70)"
   ]
  },
  {
   "cell_type": "code",
   "execution_count": 10,
   "metadata": {},
   "outputs": [
    {
     "data": {
      "text/plain": [
       "[(70, 0.03112511),\n",
       " (64398, 0.016634775),\n",
       " (107603, 0.016568653),\n",
       " (119561, 0.016266637),\n",
       " (70296, 0.015890596),\n",
       " (175915, 0.015756084),\n",
       " (45600, 0.01571552),\n",
       " (69174, 0.015582978),\n",
       " (178316, 0.015449081),\n",
       " (11806, 0.0154413525)]"
      ]
     },
     "execution_count": 10,
     "metadata": {},
     "output_type": "execute_result"
    }
   ],
   "source": [
    "sim_items"
   ]
  },
  {
   "cell_type": "code",
   "execution_count": 12,
   "metadata": {},
   "outputs": [
    {
     "data": {
      "text/plain": [
       "70"
      ]
     },
     "execution_count": 12,
     "metadata": {},
     "output_type": "execute_result"
    }
   ],
   "source": [
    "sim_items[0][0]"
   ]
  },
  {
   "cell_type": "code",
   "execution_count": 46,
   "metadata": {},
   "outputs": [
    {
     "data": {
      "text/html": [
       "<div>\n",
       "<style scoped>\n",
       "    .dataframe tbody tr th:only-of-type {\n",
       "        vertical-align: middle;\n",
       "    }\n",
       "\n",
       "    .dataframe tbody tr th {\n",
       "        vertical-align: top;\n",
       "    }\n",
       "\n",
       "    .dataframe thead th {\n",
       "        text-align: right;\n",
       "    }\n",
       "</style>\n",
       "<table border=\"1\" class=\"dataframe\">\n",
       "  <thead>\n",
       "    <tr style=\"text-align: right;\">\n",
       "      <th></th>\n",
       "      <th>movieId</th>\n",
       "    </tr>\n",
       "  </thead>\n",
       "  <tbody>\n",
       "    <tr>\n",
       "      <th>8324808</th>\n",
       "      <td>1681</td>\n",
       "    </tr>\n",
       "  </tbody>\n",
       "</table>\n",
       "</div>"
      ],
      "text/plain": [
       "         movieId\n",
       "8324808     1681"
      ]
     },
     "execution_count": 46,
     "metadata": {},
     "output_type": "execute_result"
    }
   ],
   "source": [
    "df_sparse.iloc[[64398],[1]]"
   ]
  },
  {
   "cell_type": "code",
   "execution_count": 65,
   "metadata": {},
   "outputs": [],
   "source": [
    "def get_recs(movie):\n",
    "    \"\"\"Takes a index from the model and makes a five recommendations.\"\"\"\n",
    "    id_list = []\n",
    "    sim_items = als_model.similar_items(movie)\n",
    "    for item in sim_items:\n",
    "        iid = df_sparse.iloc[item[0],[1]]\n",
    "        id_list.append(int(iid[0]))\n",
    "    final = []\n",
    "    for rec in id_list:\n",
    "        final.append(df.loc[df['movieId']== rec, 'title'].iloc[0])\n",
    "    return final\n",
    "\n",
    "    \n",
    "    \n",
    "    "
   ]
  },
  {
   "cell_type": "code",
   "execution_count": 68,
   "metadata": {},
   "outputs": [
    {
     "data": {
      "text/plain": [
       "['Disaster Movie (2008)',\n",
       " 'Mortal Kombat: Annihilation (1997)',\n",
       " 'Spy Kids 3-D: Game Over (2003)',\n",
       " 'Showgirls (1995)',\n",
       " 'Superman IV: The Quest for Peace (1987)',\n",
       " 'Chopping Mall (a.k.a. Killbots) (1986)',\n",
       " 'Alone in the Dark (2005)',\n",
       " 'Grease 2 (1982)',\n",
       " 'Alvin and the Chipmunks: The Squeakquel (2009)',\n",
       " 'Pokémon 3: The Movie (2001)']"
      ]
     },
     "execution_count": 68,
     "metadata": {},
     "output_type": "execute_result"
    }
   ],
   "source": [
    "get_recs(70)"
   ]
  },
  {
   "cell_type": "code",
   "execution_count": 67,
   "metadata": {},
   "outputs": [
    {
     "data": {
      "text/plain": [
       "str"
      ]
     },
     "execution_count": 67,
     "metadata": {},
     "output_type": "execute_result"
    }
   ],
   "source": []
  },
  {
   "cell_type": "code",
   "execution_count": null,
   "metadata": {},
   "outputs": [],
   "source": []
  },
  {
   "cell_type": "code",
   "execution_count": null,
   "metadata": {},
   "outputs": [],
   "source": []
  }
 ],
 "metadata": {
  "kernelspec": {
   "display_name": "Python 3",
   "language": "python",
   "name": "python3"
  },
  "language_info": {
   "codemirror_mode": {
    "name": "ipython",
    "version": 3
   },
   "file_extension": ".py",
   "mimetype": "text/x-python",
   "name": "python",
   "nbconvert_exporter": "python",
   "pygments_lexer": "ipython3",
   "version": "3.7.1"
  }
 },
 "nbformat": 4,
 "nbformat_minor": 2
}
