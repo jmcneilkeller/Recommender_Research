{
 "cells": [
  {
   "cell_type": "code",
   "execution_count": 4,
   "metadata": {},
   "outputs": [],
   "source": [
    "import implicit\n",
    "import pandas as pd\n",
    "import scipy\n",
    "import annoy\n",
    "import nmslib\n",
    "import numpy"
   ]
  },
  {
   "cell_type": "code",
   "execution_count": 17,
   "metadata": {},
   "outputs": [
    {
     "data": {
      "text/html": [
       "<div>\n",
       "<style scoped>\n",
       "    .dataframe tbody tr th:only-of-type {\n",
       "        vertical-align: middle;\n",
       "    }\n",
       "\n",
       "    .dataframe tbody tr th {\n",
       "        vertical-align: top;\n",
       "    }\n",
       "\n",
       "    .dataframe thead th {\n",
       "        text-align: right;\n",
       "    }\n",
       "</style>\n",
       "<table border=\"1\" class=\"dataframe\">\n",
       "  <thead>\n",
       "    <tr style=\"text-align: right;\">\n",
       "      <th></th>\n",
       "      <th>movieId</th>\n",
       "      <th>title</th>\n",
       "      <th>genres</th>\n",
       "      <th>imdbId</th>\n",
       "      <th>tmdbId</th>\n",
       "      <th>('count', 0.5)</th>\n",
       "      <th>('count', 1.0)</th>\n",
       "      <th>('count', 1.5)</th>\n",
       "      <th>('count', 2.0)</th>\n",
       "      <th>('count', 2.5)</th>\n",
       "      <th>...</th>\n",
       "      <th>('count', 3.5)</th>\n",
       "      <th>('count', 4.0)</th>\n",
       "      <th>('count', 4.5)</th>\n",
       "      <th>('count', 5.0)</th>\n",
       "      <th>total_count</th>\n",
       "      <th>percent_0.5to1</th>\n",
       "      <th>percent_4.5to5</th>\n",
       "      <th>percent_polarity</th>\n",
       "      <th>total_tails</th>\n",
       "      <th>Cluster</th>\n",
       "    </tr>\n",
       "  </thead>\n",
       "  <tbody>\n",
       "    <tr>\n",
       "      <th>0</th>\n",
       "      <td>56</td>\n",
       "      <td>Kids of the Round Table (1995)</td>\n",
       "      <td>Adventure|Children|Comedy|Fantasy</td>\n",
       "      <td>tt0113541</td>\n",
       "      <td>124057.0</td>\n",
       "      <td>4.0</td>\n",
       "      <td>33.0</td>\n",
       "      <td>2.0</td>\n",
       "      <td>15.0</td>\n",
       "      <td>2.0</td>\n",
       "      <td>...</td>\n",
       "      <td>2.0</td>\n",
       "      <td>12.0</td>\n",
       "      <td>0.0</td>\n",
       "      <td>2.0</td>\n",
       "      <td>83.0</td>\n",
       "      <td>0.445783</td>\n",
       "      <td>0.024096</td>\n",
       "      <td>0.421687</td>\n",
       "      <td>0.469880</td>\n",
       "      <td>0</td>\n",
       "    </tr>\n",
       "    <tr>\n",
       "      <th>1</th>\n",
       "      <td>66</td>\n",
       "      <td>Lawnmower Man 2: Beyond Cyberspace (1996)</td>\n",
       "      <td>Action|Sci-Fi|Thriller</td>\n",
       "      <td>tt0116839</td>\n",
       "      <td>11525.0</td>\n",
       "      <td>135.0</td>\n",
       "      <td>796.0</td>\n",
       "      <td>65.0</td>\n",
       "      <td>500.0</td>\n",
       "      <td>62.0</td>\n",
       "      <td>...</td>\n",
       "      <td>26.0</td>\n",
       "      <td>172.0</td>\n",
       "      <td>2.0</td>\n",
       "      <td>100.0</td>\n",
       "      <td>2586.0</td>\n",
       "      <td>0.360015</td>\n",
       "      <td>0.039443</td>\n",
       "      <td>0.320572</td>\n",
       "      <td>0.399459</td>\n",
       "      <td>0</td>\n",
       "    </tr>\n",
       "    <tr>\n",
       "      <th>2</th>\n",
       "      <td>181</td>\n",
       "      <td>Mighty Morphin Power Rangers: The Movie (1995)</td>\n",
       "      <td>Action|Children</td>\n",
       "      <td>tt0113820</td>\n",
       "      <td>9070.0</td>\n",
       "      <td>310.0</td>\n",
       "      <td>970.0</td>\n",
       "      <td>99.0</td>\n",
       "      <td>534.0</td>\n",
       "      <td>130.0</td>\n",
       "      <td>...</td>\n",
       "      <td>81.0</td>\n",
       "      <td>159.0</td>\n",
       "      <td>24.0</td>\n",
       "      <td>92.0</td>\n",
       "      <td>3001.0</td>\n",
       "      <td>0.426524</td>\n",
       "      <td>0.038654</td>\n",
       "      <td>0.387871</td>\n",
       "      <td>0.465178</td>\n",
       "      <td>0</td>\n",
       "    </tr>\n",
       "    <tr>\n",
       "      <th>3</th>\n",
       "      <td>193</td>\n",
       "      <td>Showgirls (1995)</td>\n",
       "      <td>Drama</td>\n",
       "      <td>tt0114436</td>\n",
       "      <td>10802.0</td>\n",
       "      <td>671.0</td>\n",
       "      <td>2095.0</td>\n",
       "      <td>465.0</td>\n",
       "      <td>1712.0</td>\n",
       "      <td>519.0</td>\n",
       "      <td>...</td>\n",
       "      <td>360.0</td>\n",
       "      <td>684.0</td>\n",
       "      <td>109.0</td>\n",
       "      <td>403.0</td>\n",
       "      <td>8937.0</td>\n",
       "      <td>0.309500</td>\n",
       "      <td>0.057290</td>\n",
       "      <td>0.252210</td>\n",
       "      <td>0.366790</td>\n",
       "      <td>0</td>\n",
       "    </tr>\n",
       "    <tr>\n",
       "      <th>4</th>\n",
       "      <td>285</td>\n",
       "      <td>Beyond Bedlam (1993)</td>\n",
       "      <td>Drama|Horror</td>\n",
       "      <td>tt0106402</td>\n",
       "      <td>56428.0</td>\n",
       "      <td>4.0</td>\n",
       "      <td>27.0</td>\n",
       "      <td>3.0</td>\n",
       "      <td>14.0</td>\n",
       "      <td>0.0</td>\n",
       "      <td>...</td>\n",
       "      <td>0.0</td>\n",
       "      <td>7.0</td>\n",
       "      <td>0.0</td>\n",
       "      <td>10.0</td>\n",
       "      <td>88.0</td>\n",
       "      <td>0.352273</td>\n",
       "      <td>0.113636</td>\n",
       "      <td>0.238636</td>\n",
       "      <td>0.465909</td>\n",
       "      <td>0</td>\n",
       "    </tr>\n",
       "  </tbody>\n",
       "</table>\n",
       "<p>5 rows × 21 columns</p>\n",
       "</div>"
      ],
      "text/plain": [
       "   movieId                                           title  \\\n",
       "0       56                  Kids of the Round Table (1995)   \n",
       "1       66       Lawnmower Man 2: Beyond Cyberspace (1996)   \n",
       "2      181  Mighty Morphin Power Rangers: The Movie (1995)   \n",
       "3      193                                Showgirls (1995)   \n",
       "4      285                            Beyond Bedlam (1993)   \n",
       "\n",
       "                              genres     imdbId    tmdbId  ('count', 0.5)  \\\n",
       "0  Adventure|Children|Comedy|Fantasy  tt0113541  124057.0             4.0   \n",
       "1             Action|Sci-Fi|Thriller  tt0116839   11525.0           135.0   \n",
       "2                    Action|Children  tt0113820    9070.0           310.0   \n",
       "3                              Drama  tt0114436   10802.0           671.0   \n",
       "4                       Drama|Horror  tt0106402   56428.0             4.0   \n",
       "\n",
       "   ('count', 1.0)  ('count', 1.5)  ('count', 2.0)  ('count', 2.5)   ...     \\\n",
       "0            33.0             2.0            15.0             2.0   ...      \n",
       "1           796.0            65.0           500.0            62.0   ...      \n",
       "2           970.0            99.0           534.0           130.0   ...      \n",
       "3          2095.0           465.0          1712.0           519.0   ...      \n",
       "4            27.0             3.0            14.0             0.0   ...      \n",
       "\n",
       "   ('count', 3.5)  ('count', 4.0)  ('count', 4.5)  ('count', 5.0)  \\\n",
       "0             2.0            12.0             0.0             2.0   \n",
       "1            26.0           172.0             2.0           100.0   \n",
       "2            81.0           159.0            24.0            92.0   \n",
       "3           360.0           684.0           109.0           403.0   \n",
       "4             0.0             7.0             0.0            10.0   \n",
       "\n",
       "   total_count  percent_0.5to1  percent_4.5to5  percent_polarity  total_tails  \\\n",
       "0         83.0        0.445783        0.024096          0.421687     0.469880   \n",
       "1       2586.0        0.360015        0.039443          0.320572     0.399459   \n",
       "2       3001.0        0.426524        0.038654          0.387871     0.465178   \n",
       "3       8937.0        0.309500        0.057290          0.252210     0.366790   \n",
       "4         88.0        0.352273        0.113636          0.238636     0.465909   \n",
       "\n",
       "   Cluster  \n",
       "0        0  \n",
       "1        0  \n",
       "2        0  \n",
       "3        0  \n",
       "4        0  \n",
       "\n",
       "[5 rows x 21 columns]"
      ]
     },
     "execution_count": 17,
     "metadata": {},
     "output_type": "execute_result"
    }
   ],
   "source": [
    "df = pd.read_csv(\"final_data.csv\", index_col=0)\n",
    "df.drop(\"index\",axis=1,inplace=True)\n",
    "df.head()"
   ]
  },
  {
   "cell_type": "code",
   "execution_count": 9,
   "metadata": {},
   "outputs": [
    {
     "name": "stdout",
     "output_type": "stream",
     "text": [
      "<class 'pandas.core.frame.DataFrame'>\n",
      "Int64Index: 216399 entries, 0 to 216398\n",
      "Data columns (total 3 columns):\n",
      "userId    216399 non-null int64\n",
      "title     216399 non-null object\n",
      "rating    216399 non-null float64\n",
      "dtypes: float64(1), int64(1), object(1)\n",
      "memory usage: 6.6+ MB\n"
     ]
    }
   ],
   "source": [
    "df.info()"
   ]
  },
  {
   "cell_type": "markdown",
   "metadata": {},
   "source": [
    "## Implicit"
   ]
  },
  {
   "cell_type": "code",
   "execution_count": 12,
   "metadata": {},
   "outputs": [],
   "source": [
    "df_sparse = pd.read_csv(\"item_item_final.csv\", index_col=0)"
   ]
  },
  {
   "cell_type": "code",
   "execution_count": 13,
   "metadata": {},
   "outputs": [],
   "source": [
    "sparse = scipy.sparse.csr_matrix(df_sparse.values)"
   ]
  },
  {
   "cell_type": "code",
   "execution_count": 14,
   "metadata": {},
   "outputs": [],
   "source": [
    "als_model = implicit.als.AlternatingLeastSquares()"
   ]
  },
  {
   "cell_type": "code",
   "execution_count": 15,
   "metadata": {},
   "outputs": [
    {
     "name": "stderr",
     "output_type": "stream",
     "text": [
      "100%|██████████| 15.0/15 [00:53<00:00,  5.04s/it]\n"
     ]
    }
   ],
   "source": [
    "als_model.fit(sparse)"
   ]
  },
  {
   "cell_type": "code",
   "execution_count": null,
   "metadata": {},
   "outputs": [],
   "source": []
  },
  {
   "cell_type": "code",
   "execution_count": null,
   "metadata": {},
   "outputs": [],
   "source": []
  },
  {
   "cell_type": "code",
   "execution_count": null,
   "metadata": {},
   "outputs": [],
   "source": []
  },
  {
   "cell_type": "code",
   "execution_count": null,
   "metadata": {},
   "outputs": [],
   "source": []
  }
 ],
 "metadata": {
  "kernelspec": {
   "display_name": "Python 3",
   "language": "python",
   "name": "python3"
  },
  "language_info": {
   "codemirror_mode": {
    "name": "ipython",
    "version": 3
   },
   "file_extension": ".py",
   "mimetype": "text/x-python",
   "name": "python",
   "nbconvert_exporter": "python",
   "pygments_lexer": "ipython3",
   "version": "3.7.1"
  }
 },
 "nbformat": 4,
 "nbformat_minor": 2
}
